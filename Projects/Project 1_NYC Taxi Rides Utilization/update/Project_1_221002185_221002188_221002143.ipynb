{
 "cells": [
  {
   "attachments": {},
   "cell_type": "markdown",
   "metadata": {},
   "source": [
    "# Advanced Big Data Analytics: Project 1: Taxi Trip Analysis"
   ]
  },
  {
   "attachments": {},
   "cell_type": "markdown",
   "metadata": {},
   "source": [
    "### Team Members:\n",
    "* **Name:** *Salma Khaled Hegazy* - **ID:** *221002185*\n",
    "* **Name:** *Monier Ashraf Monier* - **ID:** *221002188*\n",
    "* **Name:** *Tawfik Yasser Tawfik* - **ID:** *221002143*"
   ]
  },
  {
   "cell_type": "code",
   "execution_count": 1,
   "metadata": {},
   "outputs": [],
   "source": [
    "# Static variables\n",
    "geoDataPath = \"/home/tawfik/SSDData/NU/Research/Courses/ABDA/P1/nyc-boroughs.geojson\"\n",
    "mainDatasetPath = \"/home/tawfik/SSDData/NU/Research/Courses/ABDA/P1/sample.csv\""
   ]
  },
  {
   "cell_type": "code",
   "execution_count": 2,
   "metadata": {},
   "outputs": [],
   "source": [
    "# Importing libs\n",
    "from pyspark.sql import SparkSession\n",
    "import json\n",
    "#!pip install shapely\n",
    "from shapely.geometry import shape, Point\n",
    "from pyspark.sql.types import *\n",
    "import pyspark.sql.functions as F\n",
    "from pyspark.sql.functions import udf, lag\n",
    "from pyspark.sql.functions import unix_timestamp\n",
    "from pyspark.sql.window import Window"
   ]
  },
  {
   "cell_type": "code",
   "execution_count": 3,
   "metadata": {},
   "outputs": [
    {
     "name": "stdout",
     "output_type": "stream",
     "text": [
      "23/03/18 12:32:34 WARN Utils: Your hostname, tawfik resolves to a loopback address: 127.0.1.1; using 192.168.1.3 instead (on interface enp0s31f6)\n",
      "23/03/18 12:32:34 WARN Utils: Set SPARK_LOCAL_IP if you need to bind to another address\n"
     ]
    },
    {
     "name": "stderr",
     "output_type": "stream",
     "text": [
      "Setting default log level to \"WARN\".\n",
      "To adjust logging level use sc.setLogLevel(newLevel). For SparkR, use setLogLevel(newLevel).\n"
     ]
    },
    {
     "name": "stdout",
     "output_type": "stream",
     "text": [
      "23/03/18 12:32:35 WARN NativeCodeLoader: Unable to load native-hadoop library for your platform... using builtin-java classes where applicable\n"
     ]
    }
   ],
   "source": [
    "spark = SparkSession \\\n",
    "    .builder \\\n",
    "    .appName(\"Project #1\") \\\n",
    "    .getOrCreate()"
   ]
  },
  {
   "cell_type": "code",
   "execution_count": 4,
   "metadata": {},
   "outputs": [],
   "source": [
    "# Defining the schema for the rides dataset\n",
    "\n",
    "schema = StructType([\n",
    "    StructField(\"medallion\", StringType(), True),\n",
    "    StructField(\"hack_license\", StringType(), True),\n",
    "    StructField(\"vendor_id\", StringType(), True),\n",
    "    StructField(\"rate_code\", IntegerType(), True),\n",
    "    StructField(\"store_and_fwd_flag\", StringType(), True),\n",
    "    StructField(\"pickup_datetime\", TimestampType(), True),\n",
    "    StructField(\"dropoff_datetime\", TimestampType(), True),\n",
    "    StructField(\"passenger_count\", IntegerType(), True),\n",
    "    StructField(\"trip_time_in_secs\", IntegerType(), True),\n",
    "    StructField(\"trip_distance\", DoubleType(), True),\n",
    "    StructField(\"pickup_longitude\", DoubleType(), True),\n",
    "    StructField(\"pickup_latitude\", DoubleType(), True),\n",
    "    StructField(\"dropoff_longitude\", DoubleType(), True),\n",
    "    StructField(\"dropoff_latitude\", DoubleType(), True)\n",
    "])"
   ]
  },
  {
   "cell_type": "code",
   "execution_count": 5,
   "metadata": {},
   "outputs": [],
   "source": [
    "# Reading the rides dataset in `rides` dataframe\n",
    "rides = spark.read\\\n",
    "               .format(\"csv\")\\\n",
    "               .option(\"header\", \"true\")\\\n",
    "               .schema(schema)\\\n",
    "               .load(mainDatasetPath)"
   ]
  },
  {
   "cell_type": "code",
   "execution_count": 6,
   "metadata": {},
   "outputs": [
    {
     "name": "stderr",
     "output_type": "stream",
     "text": [
      "/home/tawfik/.local/lib/python3.10/site-packages/pyspark/sql/pandas/conversion.py:248: FutureWarning: Passing unit-less datetime64 dtype to .astype is deprecated and will raise in a future version. Pass 'datetime64[ns]' instead\n",
      "  series = series.astype(t, copy=False)\n",
      "/home/tawfik/.local/lib/python3.10/site-packages/pyspark/sql/pandas/conversion.py:248: FutureWarning: Passing unit-less datetime64 dtype to .astype is deprecated and will raise in a future version. Pass 'datetime64[ns]' instead\n",
      "  series = series.astype(t, copy=False)\n"
     ]
    },
    {
     "data": {
      "text/html": [
       "<div>\n",
       "<style scoped>\n",
       "    .dataframe tbody tr th:only-of-type {\n",
       "        vertical-align: middle;\n",
       "    }\n",
       "\n",
       "    .dataframe tbody tr th {\n",
       "        vertical-align: top;\n",
       "    }\n",
       "\n",
       "    .dataframe thead th {\n",
       "        text-align: right;\n",
       "    }\n",
       "</style>\n",
       "<table border=\"1\" class=\"dataframe\">\n",
       "  <thead>\n",
       "    <tr style=\"text-align: right;\">\n",
       "      <th></th>\n",
       "      <th>medallion</th>\n",
       "      <th>hack_license</th>\n",
       "      <th>vendor_id</th>\n",
       "      <th>rate_code</th>\n",
       "      <th>store_and_fwd_flag</th>\n",
       "      <th>pickup_datetime</th>\n",
       "      <th>dropoff_datetime</th>\n",
       "      <th>passenger_count</th>\n",
       "      <th>trip_time_in_secs</th>\n",
       "      <th>trip_distance</th>\n",
       "      <th>pickup_longitude</th>\n",
       "      <th>pickup_latitude</th>\n",
       "      <th>dropoff_longitude</th>\n",
       "      <th>dropoff_latitude</th>\n",
       "    </tr>\n",
       "  </thead>\n",
       "  <tbody>\n",
       "    <tr>\n",
       "      <th>0</th>\n",
       "      <td>89D227B655E5C82AECF13C3F540D4CF4</td>\n",
       "      <td>BA96DE419E711691B9445D6A6307C170</td>\n",
       "      <td>CMT</td>\n",
       "      <td>1</td>\n",
       "      <td>N</td>\n",
       "      <td>2013-01-01 15:11:48</td>\n",
       "      <td>2013-01-01 15:18:10</td>\n",
       "      <td>4</td>\n",
       "      <td>382</td>\n",
       "      <td>1.0</td>\n",
       "      <td>-73.978165</td>\n",
       "      <td>40.757977</td>\n",
       "      <td>-73.989838</td>\n",
       "      <td>40.751171</td>\n",
       "    </tr>\n",
       "    <tr>\n",
       "      <th>1</th>\n",
       "      <td>0BD7C8F5BA12B88E0B67BED28BEA73D8</td>\n",
       "      <td>9FD8F69F0804BDB5549F40E9DA1BE472</td>\n",
       "      <td>CMT</td>\n",
       "      <td>1</td>\n",
       "      <td>N</td>\n",
       "      <td>2013-01-06 00:18:35</td>\n",
       "      <td>2013-01-06 00:22:54</td>\n",
       "      <td>1</td>\n",
       "      <td>259</td>\n",
       "      <td>1.5</td>\n",
       "      <td>-74.006683</td>\n",
       "      <td>40.731781</td>\n",
       "      <td>-73.994499</td>\n",
       "      <td>40.750660</td>\n",
       "    </tr>\n",
       "    <tr>\n",
       "      <th>2</th>\n",
       "      <td>0BD7C8F5BA12B88E0B67BED28BEA73D8</td>\n",
       "      <td>9FD8F69F0804BDB5549F40E9DA1BE472</td>\n",
       "      <td>CMT</td>\n",
       "      <td>1</td>\n",
       "      <td>N</td>\n",
       "      <td>2013-01-05 18:49:41</td>\n",
       "      <td>2013-01-05 18:54:23</td>\n",
       "      <td>1</td>\n",
       "      <td>282</td>\n",
       "      <td>1.1</td>\n",
       "      <td>-74.004707</td>\n",
       "      <td>40.737770</td>\n",
       "      <td>-74.009834</td>\n",
       "      <td>40.726002</td>\n",
       "    </tr>\n",
       "    <tr>\n",
       "      <th>3</th>\n",
       "      <td>DFD2202EE08F7A8DC9A57B02ACB81FE2</td>\n",
       "      <td>51EE87E3205C985EF8431D850C786310</td>\n",
       "      <td>CMT</td>\n",
       "      <td>1</td>\n",
       "      <td>N</td>\n",
       "      <td>2013-01-07 23:54:15</td>\n",
       "      <td>2013-01-07 23:58:20</td>\n",
       "      <td>2</td>\n",
       "      <td>244</td>\n",
       "      <td>0.7</td>\n",
       "      <td>-73.974602</td>\n",
       "      <td>40.759945</td>\n",
       "      <td>-73.984734</td>\n",
       "      <td>40.759388</td>\n",
       "    </tr>\n",
       "    <tr>\n",
       "      <th>4</th>\n",
       "      <td>DFD2202EE08F7A8DC9A57B02ACB81FE2</td>\n",
       "      <td>51EE87E3205C985EF8431D850C786310</td>\n",
       "      <td>CMT</td>\n",
       "      <td>1</td>\n",
       "      <td>N</td>\n",
       "      <td>2013-01-07 23:25:03</td>\n",
       "      <td>2013-01-07 23:34:24</td>\n",
       "      <td>1</td>\n",
       "      <td>560</td>\n",
       "      <td>2.1</td>\n",
       "      <td>-73.976250</td>\n",
       "      <td>40.748528</td>\n",
       "      <td>-74.002586</td>\n",
       "      <td>40.747868</td>\n",
       "    </tr>\n",
       "  </tbody>\n",
       "</table>\n",
       "</div>"
      ],
      "text/plain": [
       "                          medallion                      hack_license  \\\n",
       "0  89D227B655E5C82AECF13C3F540D4CF4  BA96DE419E711691B9445D6A6307C170   \n",
       "1  0BD7C8F5BA12B88E0B67BED28BEA73D8  9FD8F69F0804BDB5549F40E9DA1BE472   \n",
       "2  0BD7C8F5BA12B88E0B67BED28BEA73D8  9FD8F69F0804BDB5549F40E9DA1BE472   \n",
       "3  DFD2202EE08F7A8DC9A57B02ACB81FE2  51EE87E3205C985EF8431D850C786310   \n",
       "4  DFD2202EE08F7A8DC9A57B02ACB81FE2  51EE87E3205C985EF8431D850C786310   \n",
       "\n",
       "  vendor_id  rate_code store_and_fwd_flag     pickup_datetime  \\\n",
       "0       CMT          1                  N 2013-01-01 15:11:48   \n",
       "1       CMT          1                  N 2013-01-06 00:18:35   \n",
       "2       CMT          1                  N 2013-01-05 18:49:41   \n",
       "3       CMT          1                  N 2013-01-07 23:54:15   \n",
       "4       CMT          1                  N 2013-01-07 23:25:03   \n",
       "\n",
       "     dropoff_datetime  passenger_count  trip_time_in_secs  trip_distance  \\\n",
       "0 2013-01-01 15:18:10                4                382            1.0   \n",
       "1 2013-01-06 00:22:54                1                259            1.5   \n",
       "2 2013-01-05 18:54:23                1                282            1.1   \n",
       "3 2013-01-07 23:58:20                2                244            0.7   \n",
       "4 2013-01-07 23:34:24                1                560            2.1   \n",
       "\n",
       "   pickup_longitude  pickup_latitude  dropoff_longitude  dropoff_latitude  \n",
       "0        -73.978165        40.757977         -73.989838         40.751171  \n",
       "1        -74.006683        40.731781         -73.994499         40.750660  \n",
       "2        -74.004707        40.737770         -74.009834         40.726002  \n",
       "3        -73.974602        40.759945         -73.984734         40.759388  \n",
       "4        -73.976250        40.748528         -74.002586         40.747868  "
      ]
     },
     "execution_count": 6,
     "metadata": {},
     "output_type": "execute_result"
    }
   ],
   "source": [
    "rides.toPandas().head(5)"
   ]
  },
  {
   "cell_type": "code",
   "execution_count": 7,
   "metadata": {},
   "outputs": [
    {
     "name": "stderr",
     "output_type": "stream",
     "text": [
      "                                                                                \r"
     ]
    },
    {
     "data": {
      "text/html": [
       "<div>\n",
       "<style scoped>\n",
       "    .dataframe tbody tr th:only-of-type {\n",
       "        vertical-align: middle;\n",
       "    }\n",
       "\n",
       "    .dataframe tbody tr th {\n",
       "        vertical-align: top;\n",
       "    }\n",
       "\n",
       "    .dataframe thead th {\n",
       "        text-align: right;\n",
       "    }\n",
       "</style>\n",
       "<table border=\"1\" class=\"dataframe\">\n",
       "  <thead>\n",
       "    <tr style=\"text-align: right;\">\n",
       "      <th></th>\n",
       "      <th>summary</th>\n",
       "      <th>medallion</th>\n",
       "      <th>hack_license</th>\n",
       "      <th>vendor_id</th>\n",
       "      <th>rate_code</th>\n",
       "      <th>store_and_fwd_flag</th>\n",
       "      <th>passenger_count</th>\n",
       "      <th>trip_time_in_secs</th>\n",
       "      <th>trip_distance</th>\n",
       "      <th>pickup_longitude</th>\n",
       "      <th>pickup_latitude</th>\n",
       "      <th>dropoff_longitude</th>\n",
       "      <th>dropoff_latitude</th>\n",
       "    </tr>\n",
       "  </thead>\n",
       "  <tbody>\n",
       "    <tr>\n",
       "      <th>0</th>\n",
       "      <td>count</td>\n",
       "      <td>99999</td>\n",
       "      <td>99999</td>\n",
       "      <td>99999</td>\n",
       "      <td>99999</td>\n",
       "      <td>373</td>\n",
       "      <td>99999</td>\n",
       "      <td>99999</td>\n",
       "      <td>99999</td>\n",
       "      <td>99999</td>\n",
       "      <td>99999</td>\n",
       "      <td>99999</td>\n",
       "      <td>99999</td>\n",
       "    </tr>\n",
       "    <tr>\n",
       "      <th>1</th>\n",
       "      <td>mean</td>\n",
       "      <td>None</td>\n",
       "      <td>None</td>\n",
       "      <td>None</td>\n",
       "      <td>1.04210042100421</td>\n",
       "      <td>None</td>\n",
       "      <td>2.1630016300163</td>\n",
       "      <td>650.639736397364</td>\n",
       "      <td>2.985983259832584</td>\n",
       "      <td>-72.65573395207979</td>\n",
       "      <td>40.04864264028657</td>\n",
       "      <td>-72.55315789414786</td>\n",
       "      <td>39.922430157271634</td>\n",
       "    </tr>\n",
       "    <tr>\n",
       "      <th>2</th>\n",
       "      <td>stddev</td>\n",
       "      <td>None</td>\n",
       "      <td>None</td>\n",
       "      <td>None</td>\n",
       "      <td>0.2854981654227779</td>\n",
       "      <td>None</td>\n",
       "      <td>1.7398882948433543</td>\n",
       "      <td>469.5655711271287</td>\n",
       "      <td>3.595598165741431</td>\n",
       "      <td>9.78401220373578</td>\n",
       "      <td>5.795547771378339</td>\n",
       "      <td>10.154353047085426</td>\n",
       "      <td>14.806522847291616</td>\n",
       "    </tr>\n",
       "    <tr>\n",
       "      <th>3</th>\n",
       "      <td>min</td>\n",
       "      <td>000318C2E3E6381580E5C99910A60668</td>\n",
       "      <td>001C8AAB90AEE49F36FCAA7B4136C81A</td>\n",
       "      <td>CMT</td>\n",
       "      <td>1</td>\n",
       "      <td>N</td>\n",
       "      <td>0</td>\n",
       "      <td>0</td>\n",
       "      <td>0.0</td>\n",
       "      <td>-98.116669</td>\n",
       "      <td>0.0</td>\n",
       "      <td>-95.650002</td>\n",
       "      <td>-3113.7888</td>\n",
       "    </tr>\n",
       "    <tr>\n",
       "      <th>4</th>\n",
       "      <td>max</td>\n",
       "      <td>FFFECF75AB6CC4FF9E8A8B633AB81C26</td>\n",
       "      <td>FFFBCEA3D4E21E05902EE67AD556F67C</td>\n",
       "      <td>VTS</td>\n",
       "      <td>5</td>\n",
       "      <td>Y</td>\n",
       "      <td>6</td>\n",
       "      <td>9180</td>\n",
       "      <td>52.88</td>\n",
       "      <td>0.0</td>\n",
       "      <td>646.43829</td>\n",
       "      <td>0.0</td>\n",
       "      <td>652.72314</td>\n",
       "    </tr>\n",
       "  </tbody>\n",
       "</table>\n",
       "</div>"
      ],
      "text/plain": [
       "  summary                         medallion                      hack_license  \\\n",
       "0   count                             99999                             99999   \n",
       "1    mean                              None                              None   \n",
       "2  stddev                              None                              None   \n",
       "3     min  000318C2E3E6381580E5C99910A60668  001C8AAB90AEE49F36FCAA7B4136C81A   \n",
       "4     max  FFFECF75AB6CC4FF9E8A8B633AB81C26  FFFBCEA3D4E21E05902EE67AD556F67C   \n",
       "\n",
       "  vendor_id           rate_code store_and_fwd_flag     passenger_count  \\\n",
       "0     99999               99999                373               99999   \n",
       "1      None    1.04210042100421               None     2.1630016300163   \n",
       "2      None  0.2854981654227779               None  1.7398882948433543   \n",
       "3       CMT                   1                  N                   0   \n",
       "4       VTS                   5                  Y                   6   \n",
       "\n",
       "   trip_time_in_secs      trip_distance    pickup_longitude  \\\n",
       "0              99999              99999               99999   \n",
       "1   650.639736397364  2.985983259832584  -72.65573395207979   \n",
       "2  469.5655711271287  3.595598165741431    9.78401220373578   \n",
       "3                  0                0.0          -98.116669   \n",
       "4               9180              52.88                 0.0   \n",
       "\n",
       "     pickup_latitude   dropoff_longitude    dropoff_latitude  \n",
       "0              99999               99999               99999  \n",
       "1  40.04864264028657  -72.55315789414786  39.922430157271634  \n",
       "2  5.795547771378339  10.154353047085426  14.806522847291616  \n",
       "3                0.0          -95.650002          -3113.7888  \n",
       "4          646.43829                 0.0           652.72314  "
      ]
     },
     "execution_count": 7,
     "metadata": {},
     "output_type": "execute_result"
    }
   ],
   "source": [
    "# Describing the rides dataset\n",
    "rides.describe().toPandas()"
   ]
  },
  {
   "cell_type": "code",
   "execution_count": 8,
   "metadata": {},
   "outputs": [],
   "source": [
    "# Size of the rides dataset = 16.6 MB\n",
    "# Number of rows = 99999\n",
    "# Machine cores = 4\n",
    "# Number of partitions = 4 (rides.rdd.getNumPartitions())\n",
    "\n",
    "# We will repartition the dataset to 8 partitions\n",
    "\n",
    "rides = rides.repartition(8)"
   ]
  },
  {
   "cell_type": "code",
   "execution_count": 9,
   "metadata": {},
   "outputs": [],
   "source": [
    "# Reading the geo dataset in `boroughs` from the json file\n",
    "\n",
    "with open(geoDataPath, 'r') as f:\n",
    "    boroughs = json.load(f)"
   ]
  },
  {
   "cell_type": "code",
   "execution_count": 19,
   "metadata": {},
   "outputs": [
    {
     "name": "stdout",
     "output_type": "stream",
     "text": [
      "{\n",
      "    \"type\": \"Feature\",\n",
      "    \"id\": 0,\n",
      "    \"properties\": {\n",
      "        \"boroughCode\": 5,\n",
      "        \"borough\": \"Staten Island\",\n",
      "        \"@id\": \"http://nyc.pediacities.com/Resource/Borough/Staten_Island\"\n",
      "    },\n",
      "    \"geometry\": {\n",
      "        \"type\": \"Polygon\",\n",
      "        \"coordinates\": [\n",
      "            [\n",
      "                [\n",
      "                    -74.05050806403247,\n",
      "                    40.566422034160816\n",
      "                ],\n",
      "                [\n",
      "                    -74.04998352562575,\n",
      "                    40.56639592492827\n",
      "                ],\n",
      "                [\n",
      "                    -74.04931640362088,\n",
      "                    40.56588774778044\n",
      "                ],\n",
      "                [\n",
      "                    -74.04923629842045,\n",
      "                    40.5653627363681\n",
      "                ],\n",
      "                [\n",
      "                    -74.05002620158643,\n",
      "                    40.565318180621134\n",
      "                ],\n",
      "                [\n",
      "                    -74.05090601705089,\n",
      "                    40.5660943421306\n",
      "                ],\n",
      "                [\n",
      "                    -74.05067916748614,\n",
      "                    40.5663108457364\n",
      "                ],\n",
      "                [\n",
      "                    -74.05107159803778,\n",
      "                    40.5667224933978\n",
      "                ],\n",
      "                [\n",
      "                    -74.05050806403247,\n",
      "                    40.566422034160816\n",
      "                ]\n",
      "            ]\n",
      "        ]\n",
      "    }\n",
      "}\n"
     ]
    }
   ],
   "source": [
    "# Reading the first feature in the geo dataset\n",
    "\n",
    "print(json.dumps(boroughs['features'][0], indent=4))\n",
    "\n",
    "polygons = []\n",
    "\n",
    "current_code = 0\n",
    "current_name = ''\n",
    "index = -1\n",
    "\n",
    "# We will iterate over the features in the geo dataset\n",
    "# For each feature, we will extract the borough code and name\n",
    "# We will create a new polygon for each borough code, if it doesn't exist, else we will add the polygon to the existing one\n",
    "# We will add the polygon to the list of polygons for that borough code\n",
    "\n",
    "for feature in boroughs['features']:\n",
    "    if current_code == feature['properties']['boroughCode']:\n",
    "        polygons[index]['polygon'] = polygons[index]['polygon'].union(shape(feature['geometry']))\n",
    "        continue\n",
    "    current_code = feature['properties']['boroughCode']\n",
    "    current_name = feature['properties']['borough']\n",
    "    polygons.append({'code':current_code,'name':current_name,'polygon':shape(feature['geometry'])})\n",
    "    index+=1"
   ]
  },
  {
   "cell_type": "code",
   "execution_count": 20,
   "metadata": {},
   "outputs": [],
   "source": [
    "# Sorting the polygons by the biggest area first\n",
    "\n",
    "polygons.sort(key=lambda x: x['polygon'].area, reverse=True)\n",
    "\n",
    "# Broadcasting the union_polygons to all the workers\n",
    "\n",
    "polygons = spark.sparkContext.broadcast(polygons)\n",
    "\n",
    "# Defining the function to get the borough name from the coordinates\n",
    "\n",
    "def get_borough_name(longitude, latitude):\n",
    "    point = Point(longitude, latitude)\n",
    "    for borough in polygons.value:\n",
    "        if borough['polygon'].contains(point):\n",
    "            return borough['name']\n",
    "    return 'Unknown'"
   ]
  },
  {
   "cell_type": "code",
   "execution_count": 21,
   "metadata": {},
   "outputs": [],
   "source": [
    "# Creating a UDF to get the borough name from the coordinates\n",
    "\n",
    "get_borough_name_udf = udf(get_borough_name, StringType())"
   ]
  },
  {
   "attachments": {},
   "cell_type": "markdown",
   "metadata": {},
   "source": [
    "### TASK 1"
   ]
  },
  {
   "cell_type": "code",
   "execution_count": 22,
   "metadata": {},
   "outputs": [],
   "source": [
    "# Adding 2 columns using the UDF:\n",
    "# pickup_borough: the name of the borough where the pickup point is located\n",
    "# dropoff_borough: the name of the borough where the dropoff point is located\n",
    "\n",
    "rides = rides.withColumn('pickup_borough', get_borough_name_udf(rides['pickup_longitude'], rides['pickup_latitude']))\n",
    "\n",
    "rides = rides.withColumn('dropoff_borough', get_borough_name_udf(rides['dropoff_longitude'], rides['dropoff_latitude']))"
   ]
  },
  {
   "cell_type": "code",
   "execution_count": 23,
   "metadata": {},
   "outputs": [],
   "source": [
    "# Keeping only rows with ride_duration < 4 hours or 240 minutes or 14400 seconds\n",
    "\n",
    "rides = rides.filter(rides['trip_time_in_secs'] <= 14400) # 4 hours = 240 minutes = 14400 seconds"
   ]
  },
  {
   "cell_type": "code",
   "execution_count": 24,
   "metadata": {},
   "outputs": [],
   "source": [
    "# Drop rows with Unknown boroughs in pickup or dropoff boroughs \n",
    "\n",
    "rides = rides.filter(rides['pickup_borough'] != 'Unknown')\n",
    "\n",
    "rides = rides.filter(rides['dropoff_borough'] != 'Unknown')"
   ]
  },
  {
   "cell_type": "code",
   "execution_count": 25,
   "metadata": {},
   "outputs": [
    {
     "name": "stderr",
     "output_type": "stream",
     "text": [
      "/home/tawfik/.local/lib/python3.10/site-packages/pyspark/sql/pandas/conversion.py:248: FutureWarning: Passing unit-less datetime64 dtype to .astype is deprecated and will raise in a future version. Pass 'datetime64[ns]' instead\n",
      "  series = series.astype(t, copy=False)\n",
      "/home/tawfik/.local/lib/python3.10/site-packages/pyspark/sql/pandas/conversion.py:248: FutureWarning: Passing unit-less datetime64 dtype to .astype is deprecated and will raise in a future version. Pass 'datetime64[ns]' instead\n",
      "  series = series.astype(t, copy=False)\n"
     ]
    },
    {
     "data": {
      "text/html": [
       "<div>\n",
       "<style scoped>\n",
       "    .dataframe tbody tr th:only-of-type {\n",
       "        vertical-align: middle;\n",
       "    }\n",
       "\n",
       "    .dataframe tbody tr th {\n",
       "        vertical-align: top;\n",
       "    }\n",
       "\n",
       "    .dataframe thead th {\n",
       "        text-align: right;\n",
       "    }\n",
       "</style>\n",
       "<table border=\"1\" class=\"dataframe\">\n",
       "  <thead>\n",
       "    <tr style=\"text-align: right;\">\n",
       "      <th></th>\n",
       "      <th>medallion</th>\n",
       "      <th>hack_license</th>\n",
       "      <th>vendor_id</th>\n",
       "      <th>rate_code</th>\n",
       "      <th>store_and_fwd_flag</th>\n",
       "      <th>pickup_datetime</th>\n",
       "      <th>dropoff_datetime</th>\n",
       "      <th>passenger_count</th>\n",
       "      <th>trip_time_in_secs</th>\n",
       "      <th>trip_distance</th>\n",
       "      <th>pickup_longitude</th>\n",
       "      <th>pickup_latitude</th>\n",
       "      <th>dropoff_longitude</th>\n",
       "      <th>dropoff_latitude</th>\n",
       "      <th>pickup_borough</th>\n",
       "      <th>dropoff_borough</th>\n",
       "    </tr>\n",
       "  </thead>\n",
       "  <tbody>\n",
       "    <tr>\n",
       "      <th>0</th>\n",
       "      <td>6FC85A1A4C9E9824D0D1A10532166A81</td>\n",
       "      <td>DCEC660967D86477A1AD47AB84A4C1A0</td>\n",
       "      <td>VTS</td>\n",
       "      <td>1</td>\n",
       "      <td>None</td>\n",
       "      <td>2013-01-13 06:19:00</td>\n",
       "      <td>2013-01-13 06:46:00</td>\n",
       "      <td>1</td>\n",
       "      <td>1620</td>\n",
       "      <td>20.0</td>\n",
       "      <td>-73.786118</td>\n",
       "      <td>40.641403</td>\n",
       "      <td>-74.023125</td>\n",
       "      <td>40.616669</td>\n",
       "      <td>Queens</td>\n",
       "      <td>Brooklyn</td>\n",
       "    </tr>\n",
       "  </tbody>\n",
       "</table>\n",
       "</div>"
      ],
      "text/plain": [
       "                          medallion                      hack_license  \\\n",
       "0  6FC85A1A4C9E9824D0D1A10532166A81  DCEC660967D86477A1AD47AB84A4C1A0   \n",
       "\n",
       "  vendor_id  rate_code store_and_fwd_flag     pickup_datetime  \\\n",
       "0       VTS          1               None 2013-01-13 06:19:00   \n",
       "\n",
       "     dropoff_datetime  passenger_count  trip_time_in_secs  trip_distance  \\\n",
       "0 2013-01-13 06:46:00                1               1620           20.0   \n",
       "\n",
       "   pickup_longitude  pickup_latitude  dropoff_longitude  dropoff_latitude  \\\n",
       "0        -73.786118        40.641403         -74.023125         40.616669   \n",
       "\n",
       "  pickup_borough dropoff_borough  \n",
       "0         Queens        Brooklyn  "
      ]
     },
     "execution_count": 25,
     "metadata": {},
     "output_type": "execute_result"
    }
   ],
   "source": [
    "rides.toPandas().head(1)"
   ]
  },
  {
   "cell_type": "code",
   "execution_count": 26,
   "metadata": {},
   "outputs": [
    {
     "name": "stderr",
     "output_type": "stream",
     "text": [
      "[Stage 9:===================================================>       (7 + 1) / 8]\r"
     ]
    },
    {
     "name": "stdout",
     "output_type": "stream",
     "text": [
      "+--------------------+-------------------+--------------+-------------------+---------------+-------------------+\n",
      "|        hack_license|    pickup_datetime|pickup_borough|   dropoff_datetime|dropoff_borough|        dropoff_LAG|\n",
      "+--------------------+-------------------+--------------+-------------------+---------------+-------------------+\n",
      "|006313464EC98A24B...|2013-01-13 07:36:00|     Manhattan|2013-01-13 07:48:00|      Manhattan|               null|\n",
      "|006313464EC98A24B...|2013-01-13 08:16:00|     Manhattan|2013-01-13 08:20:00|      Manhattan|2013-01-13 07:48:00|\n",
      "|006313464EC98A24B...|2013-01-13 08:51:00|     Manhattan|2013-01-13 08:53:00|      Manhattan|2013-01-13 08:20:00|\n",
      "|006313464EC98A24B...|2013-01-13 10:03:00|     Manhattan|2013-01-13 10:07:00|      Manhattan|2013-01-13 08:53:00|\n",
      "|006313464EC98A24B...|2013-01-13 11:31:00|     Manhattan|2013-01-13 11:35:00|      Manhattan|2013-01-13 10:07:00|\n",
      "|006313464EC98A24B...|2013-01-13 13:04:00|     Manhattan|2013-01-13 13:31:00|      Manhattan|2013-01-13 11:35:00|\n",
      "|006313464EC98A24B...|2013-01-13 13:38:00|     Manhattan|2013-01-13 13:40:00|      Manhattan|2013-01-13 13:31:00|\n",
      "|006313464EC98A24B...|2013-01-13 13:42:00|     Manhattan|2013-01-13 13:45:00|      Manhattan|2013-01-13 13:40:00|\n",
      "|006313464EC98A24B...|2013-01-13 13:52:00|     Manhattan|2013-01-13 13:59:00|      Manhattan|2013-01-13 13:45:00|\n",
      "|006313464EC98A24B...|2013-01-13 14:08:00|     Manhattan|2013-01-13 14:17:00|      Manhattan|2013-01-13 13:59:00|\n",
      "+--------------------+-------------------+--------------+-------------------+---------------+-------------------+\n",
      "\n"
     ]
    },
    {
     "name": "stderr",
     "output_type": "stream",
     "text": [
      "                                                                                \r"
     ]
    }
   ],
   "source": [
    "# Calculating the previous dropoff_datetime for each hack_license, \n",
    "# and adding it as a new column it will be used difference between the start of the ride and the end of the previous ride\n",
    "# and finally we will aggergate over the difference to get the average difference\n",
    "\n",
    "windowBoundary  = Window.partitionBy(\"hack_license\").orderBy(\"pickup_datetime\")\n",
    "\n",
    "rides = rides.withColumn(\"dropoff_LAG\",lag(\"dropoff_datetime\",1).over(windowBoundary)) \n",
    "\n",
    "rides.select('hack_license', 'pickup_datetime', 'pickup_borough', 'dropoff_datetime', 'dropoff_borough', 'dropoff_LAG').limit(10).show()"
   ]
  },
  {
   "cell_type": "code",
   "execution_count": 27,
   "metadata": {},
   "outputs": [
    {
     "name": "stderr",
     "output_type": "stream",
     "text": [
      "[Stage 19:==================================================>       (7 + 1) / 8]\r"
     ]
    },
    {
     "name": "stdout",
     "output_type": "stream",
     "text": [
      "+--------------------+-------------------+--------------+-------------------+---------------+-------------------+--------------+\n",
      "|        hack_license|    pickup_datetime|pickup_borough|   dropoff_datetime|dropoff_borough|        dropoff_LAG|taxi_idle_time|\n",
      "+--------------------+-------------------+--------------+-------------------+---------------+-------------------+--------------+\n",
      "|006313464EC98A24B...|2013-01-13 07:36:00|     Manhattan|2013-01-13 07:48:00|      Manhattan|               null|          null|\n",
      "|006313464EC98A24B...|2013-01-13 08:16:00|     Manhattan|2013-01-13 08:20:00|      Manhattan|2013-01-13 07:48:00|          28.0|\n",
      "|006313464EC98A24B...|2013-01-13 08:51:00|     Manhattan|2013-01-13 08:53:00|      Manhattan|2013-01-13 08:20:00|          31.0|\n",
      "|006313464EC98A24B...|2013-01-13 10:03:00|     Manhattan|2013-01-13 10:07:00|      Manhattan|2013-01-13 08:53:00|          70.0|\n",
      "|006313464EC98A24B...|2013-01-13 11:31:00|     Manhattan|2013-01-13 11:35:00|      Manhattan|2013-01-13 10:07:00|          84.0|\n",
      "|006313464EC98A24B...|2013-01-13 13:04:00|     Manhattan|2013-01-13 13:31:00|      Manhattan|2013-01-13 11:35:00|          89.0|\n",
      "|006313464EC98A24B...|2013-01-13 13:38:00|     Manhattan|2013-01-13 13:40:00|      Manhattan|2013-01-13 13:31:00|           7.0|\n",
      "|006313464EC98A24B...|2013-01-13 13:42:00|     Manhattan|2013-01-13 13:45:00|      Manhattan|2013-01-13 13:40:00|           2.0|\n",
      "|006313464EC98A24B...|2013-01-13 13:52:00|     Manhattan|2013-01-13 13:59:00|      Manhattan|2013-01-13 13:45:00|           7.0|\n",
      "|006313464EC98A24B...|2013-01-13 14:08:00|     Manhattan|2013-01-13 14:17:00|      Manhattan|2013-01-13 13:59:00|           9.0|\n",
      "+--------------------+-------------------+--------------+-------------------+---------------+-------------------+--------------+\n",
      "\n"
     ]
    },
    {
     "name": "stderr",
     "output_type": "stream",
     "text": [
      "                                                                                \r"
     ]
    }
   ],
   "source": [
    "# Calculating the idle time between the end of the previous ride and the start of the current ride\n",
    "rides = rides.withColumn(\"taxi_idle_time\", (unix_timestamp(rides.pickup_datetime) - unix_timestamp(rides.dropoff_LAG))/60)\n",
    "\n",
    "rides.select('hack_license', 'pickup_datetime', 'pickup_borough', 'dropoff_datetime', 'dropoff_borough', 'dropoff_LAG', 'taxi_idle_time').limit(10).show()"
   ]
  },
  {
   "cell_type": "code",
   "execution_count": 28,
   "metadata": {},
   "outputs": [
    {
     "name": "stderr",
     "output_type": "stream",
     "text": [
      "[Stage 29:==================================================>       (7 + 1) / 8]\r"
     ]
    },
    {
     "name": "stdout",
     "output_type": "stream",
     "text": [
      "+---------------+------------------+\n",
      "|dropoff_borough|            AITPDB|\n",
      "+---------------+------------------+\n",
      "|         Queens| 71.39703972209635|\n",
      "|       Brooklyn| 79.60176863041289|\n",
      "|  Staten Island|21.333333333333332|\n",
      "|      Manhattan| 33.67569492003802|\n",
      "|          Bronx| 93.73684210526316|\n",
      "+---------------+------------------+\n",
      "\n"
     ]
    },
    {
     "name": "stderr",
     "output_type": "stream",
     "text": [
      "                                                                                \r"
     ]
    }
   ],
   "source": [
    "# Calculating the average idle time per destination borough for each hack_license [avg_idle_time_per_destination_borough appreviated as AITPDB]\n",
    "rides.groupBy('dropoff_borough').agg(F.avg('taxi_idle_time').alias('AITPDB')).show() # AITPDB = Average Idle Time Per Destination Borough in minutes"
   ]
  },
  {
   "attachments": {},
   "cell_type": "markdown",
   "metadata": {},
   "source": [
    "### TASK #2"
   ]
  },
  {
   "cell_type": "code",
   "execution_count": 29,
   "metadata": {},
   "outputs": [
    {
     "name": "stderr",
     "output_type": "stream",
     "text": [
      "                                                                                \r"
     ]
    },
    {
     "data": {
      "text/plain": [
       "86074"
      ]
     },
     "execution_count": 29,
     "metadata": {},
     "output_type": "execute_result"
    }
   ],
   "source": [
    "# Count rides if the pickup and dropoff boroughs are the same\n",
    "\n",
    "rides.filter(rides['pickup_borough'] == rides['dropoff_borough']).count()"
   ]
  },
  {
   "attachments": {},
   "cell_type": "markdown",
   "metadata": {},
   "source": [
    "### TASK #3"
   ]
  },
  {
   "cell_type": "code",
   "execution_count": 30,
   "metadata": {},
   "outputs": [
    {
     "name": "stderr",
     "output_type": "stream",
     "text": [
      "                                                                                \r"
     ]
    },
    {
     "data": {
      "text/plain": [
       "11433"
      ]
     },
     "execution_count": 30,
     "metadata": {},
     "output_type": "execute_result"
    }
   ],
   "source": [
    "# Count rides if started in one borough and ended in another borough\n",
    "\n",
    "rides.filter(rides['pickup_borough'] != rides['dropoff_borough']).count()"
   ]
  }
 ],
 "metadata": {
  "kernelspec": {
   "display_name": "Python 3",
   "language": "python",
   "name": "python3"
  },
  "language_info": {
   "codemirror_mode": {
    "name": "ipython",
    "version": 3
   },
   "file_extension": ".py",
   "mimetype": "text/x-python",
   "name": "python",
   "nbconvert_exporter": "python",
   "pygments_lexer": "ipython3",
   "version": "3.10.7"
  },
  "orig_nbformat": 4,
  "vscode": {
   "interpreter": {
    "hash": "916dbcbb3f70747c44a77c7bcd40155683ae19c65e1c03b4aa3499c5328201f1"
   }
  }
 },
 "nbformat": 4,
 "nbformat_minor": 2
}
